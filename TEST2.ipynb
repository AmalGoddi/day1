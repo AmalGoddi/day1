{
 "cells": [
  {
   "cell_type": "code",
   "execution_count": 11,
   "metadata": {},
   "outputs": [
    {
     "name": "stdout",
     "output_type": "stream",
     "text": [
      "[2002, 2009, 2016, 2023, 2037, 2044, 2051, 2058, 2072, 2079, 2086, 2093, 2107, 2114, 2121, 2128, 2142, 2149, 2156, 2163, 2177, 2184, 2191, 2198, 2212, 2219, 2226, 2233, 2247, 2254, 2261, 2268, 2282, 2289, 2296, 2303, 2317, 2324, 2331, 2338, 2352, 2359, 2366, 2373, 2387, 2394, 2401, 2408, 2422, 2429, 2436, 2443, 2457, 2464, 2471, 2478, 2492, 2499, 2506, 2513, 2527, 2534, 2541, 2548, 2562, 2569, 2576, 2583, 2597, 2604, 2611, 2618, 2632, 2639, 2646, 2653, 2667, 2674, 2681, 2688, 2702, 2709, 2716, 2723, 2737, 2744, 2751, 2758, 2772, 2779, 2786, 2793, 2807, 2814, 2821, 2828, 2842, 2849, 2856, 2863, 2877, 2884, 2891, 2898, 2912, 2919, 2926, 2933, 2947, 2954, 2961, 2968, 2982, 2989, 2996, 3003, 3017, 3024, 3031, 3038, 3052, 3059, 3066, 3073, 3087, 3094, 3101, 3108, 3122, 3129, 3136, 3143, 3157, 3164, 3171, 3178, 3192, 3199]\n"
     ]
    }
   ],
   "source": [
    "#Question 1\n",
    "L = []\n",
    "for i in range (2000, 3201) :\n",
    "    if (i%7 ==0) and (i%5 !=0) :\n",
    "        L += [i]\n",
    "print(L)        "
   ]
  },
  {
   "cell_type": "code",
   "execution_count": 12,
   "metadata": {},
   "outputs": [
    {
     "name": "stdout",
     "output_type": "stream",
     "text": [
      "5\n",
      "120\n"
     ]
    }
   ],
   "source": [
    "#Question 2\n",
    "n = int(input ())\n",
    "f = 1\n",
    "if n < 0 :\n",
    "    print (\"ERROR\") \n",
    "elif n > 0 :\n",
    "    for i in range (1,n+1) :\n",
    "        f= f*i\n",
    "    print(f)\n",
    "else : print(f)\n",
    "\n"
   ]
  },
  {
   "cell_type": "code",
   "execution_count": 13,
   "metadata": {},
   "outputs": [
    {
     "name": "stdout",
     "output_type": "stream",
     "text": [
      "8\n"
     ]
    },
    {
     "data": {
      "text/plain": [
       "{1: 1, 2: 4, 3: 9, 4: 16, 5: 25, 6: 36, 7: 49, 8: 64}"
      ]
     },
     "execution_count": 13,
     "metadata": {},
     "output_type": "execute_result"
    }
   ],
   "source": [
    "#Question 3\n",
    "n = int(input ())\n",
    "dict = {}\n",
    "dict = {i: i*i for i in range (1,n+1)}\n",
    "dict\n"
   ]
  },
  {
   "cell_type": "code",
   "execution_count": 14,
   "metadata": {},
   "outputs": [
    {
     "name": "stdout",
     "output_type": "stream",
     "text": [
      "1\n",
      "write your string : Amal\n"
     ]
    },
    {
     "data": {
      "text/plain": [
       "'Aal'"
      ]
     },
     "execution_count": 14,
     "metadata": {},
     "output_type": "execute_result"
    }
   ],
   "source": [
    "#Question 4\n",
    "n = int(input ())\n",
    "str = (input(\"write your string : \"))\n",
    "str2 =\"\"\n",
    "for i in range (0, len(str)-1) :\n",
    "  if i==n :\n",
    "      str2 = str[ :i] + str[i+1 :]\n",
    "str2"
   ]
  },
  {
   "cell_type": "code",
   "execution_count": 15,
   "metadata": {},
   "outputs": [
    {
     "name": "stdout",
     "output_type": "stream",
     "text": [
      "Original array elements:  [[0 1]\n",
      " [2 3]\n",
      " [4 5]]\n",
      "Array to list:  [[0, 1], [2, 3], [4, 5]]\n"
     ]
    }
   ],
   "source": [
    "#Question 5 \n",
    "import numpy as np\n",
    "tab = np.array([[0,1],[2,3],[4,5]])\n",
    "print (\"Original array elements: \", tab)\n",
    "L = tab.tolist()\n",
    "print (\"Array to list: \", L )"
   ]
  },
  {
   "cell_type": "code",
   "execution_count": 16,
   "metadata": {},
   "outputs": [
    {
     "name": "stdout",
     "output_type": "stream",
     "text": [
      "[[ 1. -1.]\n",
      " [-1.  1.]]\n"
     ]
    }
   ],
   "source": [
    "#Question 6\n",
    "import numpy as np\n",
    "array1 = np.array([0,1,2])\n",
    "array2 = np.array([2,1,0])\n",
    "tab = np.array([array1,array2])\n",
    "covMatrix = np.cov(tab)\n",
    "print (covMatrix)\n",
    "\n"
   ]
  },
  {
   "cell_type": "code",
   "execution_count": 18,
   "metadata": {},
   "outputs": [
    {
     "data": {
      "text/plain": [
       "[18, 22, 24]"
      ]
     },
     "execution_count": 18,
     "metadata": {},
     "output_type": "execute_result"
    }
   ],
   "source": [
    "#Question 7\n",
    "from math import sqrt\n",
    "S =[]\n",
    "C = 50\n",
    "H = 30\n",
    "D = [100,150,180]\n",
    "new_D = []\n",
    "for i in D :\n",
    " Q= round (sqrt((2 * C * i)/H) )\n",
    " new_D.append(Q)\n",
    "new_D\n"
   ]
  },
  {
   "cell_type": "code",
   "execution_count": null,
   "metadata": {},
   "outputs": [],
   "source": []
  }
 ],
 "metadata": {
  "kernelspec": {
   "display_name": "Python 3",
   "language": "python",
   "name": "python3"
  },
  "language_info": {
   "codemirror_mode": {
    "name": "ipython",
    "version": 3
   },
   "file_extension": ".py",
   "mimetype": "text/x-python",
   "name": "python",
   "nbconvert_exporter": "python",
   "pygments_lexer": "ipython3",
   "version": "3.8.5"
  }
 },
 "nbformat": 4,
 "nbformat_minor": 4
}
